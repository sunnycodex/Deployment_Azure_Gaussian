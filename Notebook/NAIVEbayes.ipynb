{
 "cells": [
  {
   "cell_type": "code",
   "execution_count": 2,
   "metadata": {},
   "outputs": [],
   "source": [
    "import pandas as pd"
   ]
  },
  {
   "cell_type": "code",
   "execution_count": 3,
   "metadata": {},
   "outputs": [],
   "source": [
    "import numpy as np \n",
    "from sklearn.preprocessing import StandardScaler \n",
    "#from sklearn.linear_model  import LogisticRegression\n",
    "from sklearn.tree import DecisionTreeClassifier\n",
    "from sklearn.svm import SVC\n",
    "from sklearn.naive_bayes import GaussianNB\n",
    "from sklearn.model_selection import train_test_split\n",
    "from sklearn.metrics import accuracy_score, confusion_matrix\n",
    "import matplotlib.pyplot as plt\n",
    "import seaborn as sns"
   ]
  },
  {
   "cell_type": "code",
   "execution_count": 4,
   "metadata": {},
   "outputs": [
    {
     "name": "stdout",
     "output_type": "stream",
     "text": [
      "Requirement already satisfied: seaborn in /config/.local/lib/python3.8/site-packages (0.13.0)\n",
      "Requirement already satisfied: numpy!=1.24.0,>=1.20 in /config/.local/lib/python3.8/site-packages (from seaborn) (1.24.4)\n",
      "Requirement already satisfied: pandas>=1.2 in /config/.local/lib/python3.8/site-packages (from seaborn) (2.0.3)\n",
      "Requirement already satisfied: matplotlib!=3.6.1,>=3.3 in /config/.local/lib/python3.8/site-packages (from seaborn) (3.7.3)\n",
      "Requirement already satisfied: python-dateutil>=2.8.2 in /config/.local/lib/python3.8/site-packages (from pandas>=1.2->seaborn) (2.8.2)\n",
      "Requirement already satisfied: tzdata>=2022.1 in /config/.local/lib/python3.8/site-packages (from pandas>=1.2->seaborn) (2023.3)\n",
      "Requirement already satisfied: pytz>=2020.1 in /config/.local/lib/python3.8/site-packages (from pandas>=1.2->seaborn) (2023.3.post1)\n",
      "Requirement already satisfied: fonttools>=4.22.0 in /config/.local/lib/python3.8/site-packages (from matplotlib!=3.6.1,>=3.3->seaborn) (4.43.1)\n",
      "Requirement already satisfied: pyparsing>=2.3.1 in /config/.local/lib/python3.8/site-packages (from matplotlib!=3.6.1,>=3.3->seaborn) (3.1.1)\n",
      "Requirement already satisfied: contourpy>=1.0.1 in /config/.local/lib/python3.8/site-packages (from matplotlib!=3.6.1,>=3.3->seaborn) (1.1.1)\n",
      "Requirement already satisfied: kiwisolver>=1.0.1 in /config/.local/lib/python3.8/site-packages (from matplotlib!=3.6.1,>=3.3->seaborn) (1.4.5)\n",
      "Requirement already satisfied: cycler>=0.10 in /config/.local/lib/python3.8/site-packages (from matplotlib!=3.6.1,>=3.3->seaborn) (0.12.1)\n",
      "Requirement already satisfied: importlib-resources>=3.2.0; python_version < \"3.10\" in /config/.local/lib/python3.8/site-packages (from matplotlib!=3.6.1,>=3.3->seaborn) (6.1.0)\n",
      "Requirement already satisfied: pillow>=6.2.0 in /config/.local/lib/python3.8/site-packages (from matplotlib!=3.6.1,>=3.3->seaborn) (10.1.0)\n",
      "Requirement already satisfied: packaging>=20.0 in /config/.local/lib/python3.8/site-packages (from matplotlib!=3.6.1,>=3.3->seaborn) (23.2)\n",
      "Requirement already satisfied: six>=1.5 in /config/.local/lib/python3.8/site-packages (from python-dateutil>=2.8.2->pandas>=1.2->seaborn) (1.16.0)\n",
      "Requirement already satisfied: zipp>=3.1.0; python_version < \"3.10\" in /config/.local/lib/python3.8/site-packages (from importlib-resources>=3.2.0; python_version < \"3.10\"->matplotlib!=3.6.1,>=3.3->seaborn) (3.17.0)\n",
      "Note: you may need to restart the kernel to use updated packages.\n"
     ]
    }
   ],
   "source": [
    "pip install seaborn"
   ]
  },
  {
   "cell_type": "code",
   "execution_count": 5,
   "metadata": {},
   "outputs": [],
   "source": [
    "data=pd.read_csv('/config/workspace/DATASET/diabetes.csv')"
   ]
  },
  {
   "cell_type": "code",
   "execution_count": 6,
   "metadata": {},
   "outputs": [
    {
     "data": {
      "text/html": [
       "<div>\n",
       "<style scoped>\n",
       "    .dataframe tbody tr th:only-of-type {\n",
       "        vertical-align: middle;\n",
       "    }\n",
       "\n",
       "    .dataframe tbody tr th {\n",
       "        vertical-align: top;\n",
       "    }\n",
       "\n",
       "    .dataframe thead th {\n",
       "        text-align: right;\n",
       "    }\n",
       "</style>\n",
       "<table border=\"1\" class=\"dataframe\">\n",
       "  <thead>\n",
       "    <tr style=\"text-align: right;\">\n",
       "      <th></th>\n",
       "      <th>Pregnancies</th>\n",
       "      <th>Glucose</th>\n",
       "      <th>BloodPressure</th>\n",
       "      <th>SkinThickness</th>\n",
       "      <th>Insulin</th>\n",
       "      <th>BMI</th>\n",
       "      <th>DiabetesPedigreeFunction</th>\n",
       "      <th>Age</th>\n",
       "      <th>Outcome</th>\n",
       "    </tr>\n",
       "  </thead>\n",
       "  <tbody>\n",
       "    <tr>\n",
       "      <th>0</th>\n",
       "      <td>6</td>\n",
       "      <td>148</td>\n",
       "      <td>72</td>\n",
       "      <td>35</td>\n",
       "      <td>0</td>\n",
       "      <td>33.6</td>\n",
       "      <td>0.627</td>\n",
       "      <td>50</td>\n",
       "      <td>1</td>\n",
       "    </tr>\n",
       "    <tr>\n",
       "      <th>1</th>\n",
       "      <td>1</td>\n",
       "      <td>85</td>\n",
       "      <td>66</td>\n",
       "      <td>29</td>\n",
       "      <td>0</td>\n",
       "      <td>26.6</td>\n",
       "      <td>0.351</td>\n",
       "      <td>31</td>\n",
       "      <td>0</td>\n",
       "    </tr>\n",
       "    <tr>\n",
       "      <th>2</th>\n",
       "      <td>8</td>\n",
       "      <td>183</td>\n",
       "      <td>64</td>\n",
       "      <td>0</td>\n",
       "      <td>0</td>\n",
       "      <td>23.3</td>\n",
       "      <td>0.672</td>\n",
       "      <td>32</td>\n",
       "      <td>1</td>\n",
       "    </tr>\n",
       "    <tr>\n",
       "      <th>3</th>\n",
       "      <td>1</td>\n",
       "      <td>89</td>\n",
       "      <td>66</td>\n",
       "      <td>23</td>\n",
       "      <td>94</td>\n",
       "      <td>28.1</td>\n",
       "      <td>0.167</td>\n",
       "      <td>21</td>\n",
       "      <td>0</td>\n",
       "    </tr>\n",
       "    <tr>\n",
       "      <th>4</th>\n",
       "      <td>0</td>\n",
       "      <td>137</td>\n",
       "      <td>40</td>\n",
       "      <td>35</td>\n",
       "      <td>168</td>\n",
       "      <td>43.1</td>\n",
       "      <td>2.288</td>\n",
       "      <td>33</td>\n",
       "      <td>1</td>\n",
       "    </tr>\n",
       "  </tbody>\n",
       "</table>\n",
       "</div>"
      ],
      "text/plain": [
       "   Pregnancies  Glucose  BloodPressure  SkinThickness  Insulin   BMI  \\\n",
       "0            6      148             72             35        0  33.6   \n",
       "1            1       85             66             29        0  26.6   \n",
       "2            8      183             64              0        0  23.3   \n",
       "3            1       89             66             23       94  28.1   \n",
       "4            0      137             40             35      168  43.1   \n",
       "\n",
       "   DiabetesPedigreeFunction  Age  Outcome  \n",
       "0                     0.627   50        1  \n",
       "1                     0.351   31        0  \n",
       "2                     0.672   32        1  \n",
       "3                     0.167   21        0  \n",
       "4                     2.288   33        1  "
      ]
     },
     "execution_count": 6,
     "metadata": {},
     "output_type": "execute_result"
    }
   ],
   "source": [
    "data.head()"
   ]
  },
  {
   "cell_type": "code",
   "execution_count": 7,
   "metadata": {},
   "outputs": [
    {
     "data": {
      "text/html": [
       "<div>\n",
       "<style scoped>\n",
       "    .dataframe tbody tr th:only-of-type {\n",
       "        vertical-align: middle;\n",
       "    }\n",
       "\n",
       "    .dataframe tbody tr th {\n",
       "        vertical-align: top;\n",
       "    }\n",
       "\n",
       "    .dataframe thead th {\n",
       "        text-align: right;\n",
       "    }\n",
       "</style>\n",
       "<table border=\"1\" class=\"dataframe\">\n",
       "  <thead>\n",
       "    <tr style=\"text-align: right;\">\n",
       "      <th></th>\n",
       "      <th>Pregnancies</th>\n",
       "      <th>Glucose</th>\n",
       "      <th>BloodPressure</th>\n",
       "      <th>SkinThickness</th>\n",
       "      <th>Insulin</th>\n",
       "      <th>BMI</th>\n",
       "      <th>DiabetesPedigreeFunction</th>\n",
       "      <th>Age</th>\n",
       "      <th>Outcome</th>\n",
       "    </tr>\n",
       "  </thead>\n",
       "  <tbody>\n",
       "    <tr>\n",
       "      <th>count</th>\n",
       "      <td>768.000000</td>\n",
       "      <td>768.000000</td>\n",
       "      <td>768.000000</td>\n",
       "      <td>768.000000</td>\n",
       "      <td>768.000000</td>\n",
       "      <td>768.000000</td>\n",
       "      <td>768.000000</td>\n",
       "      <td>768.000000</td>\n",
       "      <td>768.000000</td>\n",
       "    </tr>\n",
       "    <tr>\n",
       "      <th>mean</th>\n",
       "      <td>3.845052</td>\n",
       "      <td>120.894531</td>\n",
       "      <td>69.105469</td>\n",
       "      <td>20.536458</td>\n",
       "      <td>79.799479</td>\n",
       "      <td>31.992578</td>\n",
       "      <td>0.471876</td>\n",
       "      <td>33.240885</td>\n",
       "      <td>0.348958</td>\n",
       "    </tr>\n",
       "    <tr>\n",
       "      <th>std</th>\n",
       "      <td>3.369578</td>\n",
       "      <td>31.972618</td>\n",
       "      <td>19.355807</td>\n",
       "      <td>15.952218</td>\n",
       "      <td>115.244002</td>\n",
       "      <td>7.884160</td>\n",
       "      <td>0.331329</td>\n",
       "      <td>11.760232</td>\n",
       "      <td>0.476951</td>\n",
       "    </tr>\n",
       "    <tr>\n",
       "      <th>min</th>\n",
       "      <td>0.000000</td>\n",
       "      <td>0.000000</td>\n",
       "      <td>0.000000</td>\n",
       "      <td>0.000000</td>\n",
       "      <td>0.000000</td>\n",
       "      <td>0.000000</td>\n",
       "      <td>0.078000</td>\n",
       "      <td>21.000000</td>\n",
       "      <td>0.000000</td>\n",
       "    </tr>\n",
       "    <tr>\n",
       "      <th>25%</th>\n",
       "      <td>1.000000</td>\n",
       "      <td>99.000000</td>\n",
       "      <td>62.000000</td>\n",
       "      <td>0.000000</td>\n",
       "      <td>0.000000</td>\n",
       "      <td>27.300000</td>\n",
       "      <td>0.243750</td>\n",
       "      <td>24.000000</td>\n",
       "      <td>0.000000</td>\n",
       "    </tr>\n",
       "    <tr>\n",
       "      <th>50%</th>\n",
       "      <td>3.000000</td>\n",
       "      <td>117.000000</td>\n",
       "      <td>72.000000</td>\n",
       "      <td>23.000000</td>\n",
       "      <td>30.500000</td>\n",
       "      <td>32.000000</td>\n",
       "      <td>0.372500</td>\n",
       "      <td>29.000000</td>\n",
       "      <td>0.000000</td>\n",
       "    </tr>\n",
       "    <tr>\n",
       "      <th>75%</th>\n",
       "      <td>6.000000</td>\n",
       "      <td>140.250000</td>\n",
       "      <td>80.000000</td>\n",
       "      <td>32.000000</td>\n",
       "      <td>127.250000</td>\n",
       "      <td>36.600000</td>\n",
       "      <td>0.626250</td>\n",
       "      <td>41.000000</td>\n",
       "      <td>1.000000</td>\n",
       "    </tr>\n",
       "    <tr>\n",
       "      <th>max</th>\n",
       "      <td>17.000000</td>\n",
       "      <td>199.000000</td>\n",
       "      <td>122.000000</td>\n",
       "      <td>99.000000</td>\n",
       "      <td>846.000000</td>\n",
       "      <td>67.100000</td>\n",
       "      <td>2.420000</td>\n",
       "      <td>81.000000</td>\n",
       "      <td>1.000000</td>\n",
       "    </tr>\n",
       "  </tbody>\n",
       "</table>\n",
       "</div>"
      ],
      "text/plain": [
       "       Pregnancies     Glucose  BloodPressure  SkinThickness     Insulin  \\\n",
       "count   768.000000  768.000000     768.000000     768.000000  768.000000   \n",
       "mean      3.845052  120.894531      69.105469      20.536458   79.799479   \n",
       "std       3.369578   31.972618      19.355807      15.952218  115.244002   \n",
       "min       0.000000    0.000000       0.000000       0.000000    0.000000   \n",
       "25%       1.000000   99.000000      62.000000       0.000000    0.000000   \n",
       "50%       3.000000  117.000000      72.000000      23.000000   30.500000   \n",
       "75%       6.000000  140.250000      80.000000      32.000000  127.250000   \n",
       "max      17.000000  199.000000     122.000000      99.000000  846.000000   \n",
       "\n",
       "              BMI  DiabetesPedigreeFunction         Age     Outcome  \n",
       "count  768.000000                768.000000  768.000000  768.000000  \n",
       "mean    31.992578                  0.471876   33.240885    0.348958  \n",
       "std      7.884160                  0.331329   11.760232    0.476951  \n",
       "min      0.000000                  0.078000   21.000000    0.000000  \n",
       "25%     27.300000                  0.243750   24.000000    0.000000  \n",
       "50%     32.000000                  0.372500   29.000000    0.000000  \n",
       "75%     36.600000                  0.626250   41.000000    1.000000  \n",
       "max     67.100000                  2.420000   81.000000    1.000000  "
      ]
     },
     "execution_count": 7,
     "metadata": {},
     "output_type": "execute_result"
    }
   ],
   "source": [
    "data.describe()"
   ]
  },
  {
   "cell_type": "code",
   "execution_count": 8,
   "metadata": {},
   "outputs": [
    {
     "data": {
      "text/plain": [
       "<Axes: >"
      ]
     },
     "execution_count": 8,
     "metadata": {},
     "output_type": "execute_result"
    },
    {
     "data": {
      "image/png": "[encoded data removed]",
      "text/plain": [
       "<Figure size 1500x1000 with 1 Axes>"
      ]
     },
     "metadata": {},
     "output_type": "display_data"
    }
   ],
   "source": [
    "fig, ax = plt.subplots(figsize=(15,10))\n",
    "sns.boxplot(data=data, width= 0.5,ax=ax,  fliersize=3)"
   ]
  },
  {
   "cell_type": "code",
   "execution_count": 9,
   "metadata": {},
   "outputs": [],
   "source": [
    "data['Glucose']=data['Glucose'].replace(0,data['Glucose'].mean())\n",
    "data['BloodPressure']=data['BloodPressure'].replace(0,data['BloodPressure'].mean())\n",
    "data['SkinThickness']=data['SkinThickness'].replace(0,data['SkinThickness'].mean())\n",
    "data['Insulin']=data['Insulin'].replace(0,data['Insulin'].median())\n",
    "data['BMI']=data['BMI'].replace(0,data['BMI'].median())"
   ]
  },
  {
   "cell_type": "code",
   "execution_count": 10,
   "metadata": {},
   "outputs": [
    {
     "data": {
      "text/html": [
       "<div>\n",
       "<style scoped>\n",
       "    .dataframe tbody tr th:only-of-type {\n",
       "        vertical-align: middle;\n",
       "    }\n",
       "\n",
       "    .dataframe tbody tr th {\n",
       "        vertical-align: top;\n",
       "    }\n",
       "\n",
       "    .dataframe thead th {\n",
       "        text-align: right;\n",
       "    }\n",
       "</style>\n",
       "<table border=\"1\" class=\"dataframe\">\n",
       "  <thead>\n",
       "    <tr style=\"text-align: right;\">\n",
       "      <th></th>\n",
       "      <th>Pregnancies</th>\n",
       "      <th>Glucose</th>\n",
       "      <th>BloodPressure</th>\n",
       "      <th>SkinThickness</th>\n",
       "      <th>Insulin</th>\n",
       "      <th>BMI</th>\n",
       "      <th>DiabetesPedigreeFunction</th>\n",
       "      <th>Age</th>\n",
       "      <th>Outcome</th>\n",
       "    </tr>\n",
       "  </thead>\n",
       "  <tbody>\n",
       "    <tr>\n",
       "      <th>count</th>\n",
       "      <td>768.000000</td>\n",
       "      <td>768.000000</td>\n",
       "      <td>768.000000</td>\n",
       "      <td>768.000000</td>\n",
       "      <td>768.000000</td>\n",
       "      <td>768.000000</td>\n",
       "      <td>768.000000</td>\n",
       "      <td>768.000000</td>\n",
       "      <td>768.000000</td>\n",
       "    </tr>\n",
       "    <tr>\n",
       "      <th>mean</th>\n",
       "      <td>3.845052</td>\n",
       "      <td>121.681605</td>\n",
       "      <td>72.254807</td>\n",
       "      <td>26.606479</td>\n",
       "      <td>94.652344</td>\n",
       "      <td>32.450911</td>\n",
       "      <td>0.471876</td>\n",
       "      <td>33.240885</td>\n",
       "      <td>0.348958</td>\n",
       "    </tr>\n",
       "    <tr>\n",
       "      <th>std</th>\n",
       "      <td>3.369578</td>\n",
       "      <td>30.436016</td>\n",
       "      <td>12.115932</td>\n",
       "      <td>9.631241</td>\n",
       "      <td>105.547598</td>\n",
       "      <td>6.875366</td>\n",
       "      <td>0.331329</td>\n",
       "      <td>11.760232</td>\n",
       "      <td>0.476951</td>\n",
       "    </tr>\n",
       "    <tr>\n",
       "      <th>min</th>\n",
       "      <td>0.000000</td>\n",
       "      <td>44.000000</td>\n",
       "      <td>24.000000</td>\n",
       "      <td>7.000000</td>\n",
       "      <td>14.000000</td>\n",
       "      <td>18.200000</td>\n",
       "      <td>0.078000</td>\n",
       "      <td>21.000000</td>\n",
       "      <td>0.000000</td>\n",
       "    </tr>\n",
       "    <tr>\n",
       "      <th>25%</th>\n",
       "      <td>1.000000</td>\n",
       "      <td>99.750000</td>\n",
       "      <td>64.000000</td>\n",
       "      <td>20.536458</td>\n",
       "      <td>30.500000</td>\n",
       "      <td>27.500000</td>\n",
       "      <td>0.243750</td>\n",
       "      <td>24.000000</td>\n",
       "      <td>0.000000</td>\n",
       "    </tr>\n",
       "    <tr>\n",
       "      <th>50%</th>\n",
       "      <td>3.000000</td>\n",
       "      <td>117.000000</td>\n",
       "      <td>72.000000</td>\n",
       "      <td>23.000000</td>\n",
       "      <td>31.250000</td>\n",
       "      <td>32.000000</td>\n",
       "      <td>0.372500</td>\n",
       "      <td>29.000000</td>\n",
       "      <td>0.000000</td>\n",
       "    </tr>\n",
       "    <tr>\n",
       "      <th>75%</th>\n",
       "      <td>6.000000</td>\n",
       "      <td>140.250000</td>\n",
       "      <td>80.000000</td>\n",
       "      <td>32.000000</td>\n",
       "      <td>127.250000</td>\n",
       "      <td>36.600000</td>\n",
       "      <td>0.626250</td>\n",
       "      <td>41.000000</td>\n",
       "      <td>1.000000</td>\n",
       "    </tr>\n",
       "    <tr>\n",
       "      <th>max</th>\n",
       "      <td>17.000000</td>\n",
       "      <td>199.000000</td>\n",
       "      <td>122.000000</td>\n",
       "      <td>99.000000</td>\n",
       "      <td>846.000000</td>\n",
       "      <td>67.100000</td>\n",
       "      <td>2.420000</td>\n",
       "      <td>81.000000</td>\n",
       "      <td>1.000000</td>\n",
       "    </tr>\n",
       "  </tbody>\n",
       "</table>\n",
       "</div>"
      ],
      "text/plain": [
       "       Pregnancies     Glucose  BloodPressure  SkinThickness     Insulin  \\\n",
       "count   768.000000  768.000000     768.000000     768.000000  768.000000   \n",
       "mean      3.845052  121.681605      72.254807      26.606479   94.652344   \n",
       "std       3.369578   30.436016      12.115932       9.631241  105.547598   \n",
       "min       0.000000   44.000000      24.000000       7.000000   14.000000   \n",
       "25%       1.000000   99.750000      64.000000      20.536458   30.500000   \n",
       "50%       3.000000  117.000000      72.000000      23.000000   31.250000   \n",
       "75%       6.000000  140.250000      80.000000      32.000000  127.250000   \n",
       "max      17.000000  199.000000     122.000000      99.000000  846.000000   \n",
       "\n",
       "              BMI  DiabetesPedigreeFunction         Age     Outcome  \n",
       "count  768.000000                768.000000  768.000000  768.000000  \n",
       "mean    32.450911                  0.471876   33.240885    0.348958  \n",
       "std      6.875366                  0.331329   11.760232    0.476951  \n",
       "min     18.200000                  0.078000   21.000000    0.000000  \n",
       "25%     27.500000                  0.243750   24.000000    0.000000  \n",
       "50%     32.000000                  0.372500   29.000000    0.000000  \n",
       "75%     36.600000                  0.626250   41.000000    1.000000  \n",
       "max     67.100000                  2.420000   81.000000    1.000000  "
      ]
     },
     "execution_count": 10,
     "metadata": {},
     "output_type": "execute_result"
    }
   ],
   "source": [
    "data.describe()"
   ]
  },
  {
   "cell_type": "code",
   "execution_count": 11,
   "metadata": {},
   "outputs": [
    {
     "data": {
      "text/plain": [
       "<Axes: >"
      ]
     },
     "execution_count": 11,
     "metadata": {},
     "output_type": "execute_result"
    },
    {
     "data": {
      "image/png": "[encoded data removed]",
      "text/plain": [
       "<Figure size 1500x1000 with 1 Axes>"
      ]
     },
     "metadata": {},
     "output_type": "display_data"
    }
   ],
   "source": [
    "fig, ax = plt.subplots(figsize=(15,10))\n",
    "sns.boxplot(data=data, width= 0.5,ax=ax,  fliersize=3)"
   ]
  },
  {
   "cell_type": "code",
   "execution_count": 12,
   "metadata": {},
   "outputs": [],
   "source": [
    "X= data.drop(columns=['Outcome'])\n",
    "y=data['Outcome']"
   ]
  },
  {
   "cell_type": "code",
   "execution_count": 13,
   "metadata": {},
   "outputs": [
    {
     "data": {
      "text/plain": [
       "((576, 8), (192, 8))"
      ]
     },
     "execution_count": 13,
     "metadata": {},
     "output_type": "execute_result"
    }
   ],
   "source": [
    "X_train, X_test, y_train, y_test = train_test_split(X,y,test_size=0.25,random_state=0)\n",
    "X_train.shape, X_test.shape\n",
    "\n"
   ]
  },
  {
   "cell_type": "code",
   "execution_count": 14,
   "metadata": {},
   "outputs": [],
   "source": [
    "scaler=StandardScaler()\n",
    "X_train_scaled=scaler.fit_transform(X_train)\n",
    "X_test_scaled=scaler.transform(X_test)"
   ]
  },
  {
   "cell_type": "code",
   "execution_count": 15,
   "metadata": {},
   "outputs": [],
   "source": [
    "import pickle\n",
    "file=open('/config/workspace/MODEL/standardScalar.pkl','wb')\n",
    "pickle.dump(scaler,file)\n",
    "file.close()"
   ]
  },
  {
   "cell_type": "code",
   "execution_count": 16,
   "metadata": {},
   "outputs": [],
   "source": [
    "from sklearn.model_selection import GridSearchCV"
   ]
  },
  {
   "cell_type": "code",
   "execution_count": 17,
   "metadata": {},
   "outputs": [],
   "source": [
    "gnb=GaussianNB()"
   ]
  },
  {
   "cell_type": "code",
   "execution_count": 18,
   "metadata": {},
   "outputs": [],
   "source": [
    "import warnings\n",
    "warnings.filterwarnings('ignore')"
   ]
  },
  {
   "cell_type": "code",
   "execution_count": 19,
   "metadata": {},
   "outputs": [],
   "source": [
    "params_NB = {'var_smoothing': np.logspace(0,-9, num=100)}"
   ]
  },
  {
   "cell_type": "code",
   "execution_count": 20,
   "metadata": {},
   "outputs": [],
   "source": [
    "clf=GridSearchCV(gnb,param_grid=params_NB ,cv=3,scoring='accuracy',verbose=3)"
   ]
  },
  {
   "cell_type": "code",
   "execution_count": 21,
   "metadata": {},
   "outputs": [
    {
     "name": "stdout",
     "output_type": "stream",
     "text": [
      "Fitting 3 folds for each of 100 candidates, totalling 300 fits\n",
      "[CV 1/3] END .................var_smoothing=1.0;, score=0.719 total time=   0.0s\n",
      "[CV 2/3] END .................var_smoothing=1.0;, score=0.797 total time=   0.0s\n",
      "[CV 3/3] END .................var_smoothing=1.0;, score=0.698 total time=   0.0s\n",
      "[CV 1/3] END ..var_smoothing=0.8111308307896871;, score=0.729 total time=   0.0s\n",
      "[CV 2/3] END ..var_smoothing=0.8111308307896871;, score=0.781 total time=   0.0s\n",
      "[CV 3/3] END ..var_smoothing=0.8111308307896871;, score=0.698 total time=   0.0s\n",
      "[CV 1/3] END ...var_smoothing=0.657933224657568;, score=0.734 total time=   0.0s\n",
      "[CV 2/3] END ...var_smoothing=0.657933224657568;, score=0.781 total time=   0.0s\n",
      "[CV 3/3] END ...var_smoothing=0.657933224657568;, score=0.708 total time=   0.0s\n",
      "[CV 1/3] END ...var_smoothing=0.533669923120631;, score=0.719 total time=   0.0s\n",
      "[CV 2/3] END ...var_smoothing=0.533669923120631;, score=0.781 total time=   0.0s\n",
      "[CV 3/3] END ...var_smoothing=0.533669923120631;, score=0.708 total time=   0.0s\n",
      "[CV 1/3] END .var_smoothing=0.43287612810830584;, score=0.724 total time=   0.0s\n",
      "[CV 2/3] END .var_smoothing=0.43287612810830584;, score=0.786 total time=   0.0s\n",
      "[CV 3/3] END .var_smoothing=0.43287612810830584;, score=0.703 total time=   0.0s\n",
      "[CV 1/3] END ..var_smoothing=0.3511191734215131;, score=0.724 total time=   0.0s\n",
      "[CV 2/3] END ..var_smoothing=0.3511191734215131;, score=0.776 total time=   0.0s\n",
      "[CV 3/3] END ..var_smoothing=0.3511191734215131;, score=0.698 total time=   0.0s\n",
      "[CV 1/3] END ..var_smoothing=0.2848035868435802;, score=0.740 total time=   0.0s\n",
      "[CV 2/3] END ..var_smoothing=0.2848035868435802;, score=0.771 total time=   0.0s\n",
      "[CV 3/3] END ..var_smoothing=0.2848035868435802;, score=0.698 total time=   0.0s\n",
      "[CV 1/3] END .var_smoothing=0.23101297000831597;, score=0.740 total time=   0.0s\n",
      "[CV 2/3] END .var_smoothing=0.23101297000831597;, score=0.771 total time=   0.0s\n",
      "[CV 3/3] END .var_smoothing=0.23101297000831597;, score=0.698 total time=   0.0s\n",
      "[CV 1/3] END ..var_smoothing=0.1873817422860384;, score=0.734 total time=   0.0s\n",
      "[CV 2/3] END ..var_smoothing=0.1873817422860384;, score=0.771 total time=   0.0s\n",
      "[CV 3/3] END ..var_smoothing=0.1873817422860384;, score=0.703 total time=   0.0s\n",
      "[CV 1/3] END .var_smoothing=0.15199110829529336;, score=0.729 total time=   0.0s\n",
      "[CV 2/3] END .var_smoothing=0.15199110829529336;, score=0.771 total time=   0.0s\n",
      "[CV 3/3] END .var_smoothing=0.15199110829529336;, score=0.703 total time=   0.0s\n",
      "[CV 1/3] END .var_smoothing=0.12328467394420659;, score=0.724 total time=   0.0s\n",
      "[CV 2/3] END .var_smoothing=0.12328467394420659;, score=0.771 total time=   0.0s\n",
      "[CV 3/3] END .var_smoothing=0.12328467394420659;, score=0.714 total time=   0.0s\n",
      "[CV 1/3] END .................var_smoothing=0.1;, score=0.724 total time=   0.0s\n",
      "[CV 2/3] END .................var_smoothing=0.1;, score=0.771 total time=   0.0s\n",
      "[CV 3/3] END .................var_smoothing=0.1;, score=0.708 total time=   0.0s\n",
      "[CV 1/3] END .var_smoothing=0.08111308307896872;, score=0.729 total time=   0.0s\n",
      "[CV 2/3] END .var_smoothing=0.08111308307896872;, score=0.771 total time=   0.0s\n",
      "[CV 3/3] END .var_smoothing=0.08111308307896872;, score=0.708 total time=   0.0s\n",
      "[CV 1/3] END ..var_smoothing=0.0657933224657568;, score=0.729 total time=   0.0s\n",
      "[CV 2/3] END ..var_smoothing=0.0657933224657568;, score=0.771 total time=   0.0s\n",
      "[CV 3/3] END ..var_smoothing=0.0657933224657568;, score=0.703 total time=   0.0s\n",
      "[CV 1/3] END ..var_smoothing=0.0533669923120631;, score=0.729 total time=   0.0s\n",
      "[CV 2/3] END ..var_smoothing=0.0533669923120631;, score=0.776 total time=   0.0s\n",
      "[CV 3/3] END ..var_smoothing=0.0533669923120631;, score=0.703 total time=   0.0s\n",
      "[CV 1/3] END .var_smoothing=0.04328761281083057;, score=0.729 total time=   0.0s\n",
      "[CV 2/3] END .var_smoothing=0.04328761281083057;, score=0.776 total time=   0.0s\n",
      "[CV 3/3] END .var_smoothing=0.04328761281083057;, score=0.703 total time=   0.0s\n",
      "[CV 1/3] END .var_smoothing=0.03511191734215131;, score=0.729 total time=   0.0s\n",
      "[CV 2/3] END .var_smoothing=0.03511191734215131;, score=0.776 total time=   0.0s\n",
      "[CV 3/3] END .var_smoothing=0.03511191734215131;, score=0.703 total time=   0.0s\n",
      "[CV 1/3] END .var_smoothing=0.02848035868435802;, score=0.729 total time=   0.0s\n",
      "[CV 2/3] END .var_smoothing=0.02848035868435802;, score=0.776 total time=   0.0s\n",
      "[CV 3/3] END .var_smoothing=0.02848035868435802;, score=0.703 total time=   0.0s\n",
      "[CV 1/3] END .var_smoothing=0.02310129700083159;, score=0.729 total time=   0.0s\n",
      "[CV 2/3] END .var_smoothing=0.02310129700083159;, score=0.776 total time=   0.0s\n",
      "[CV 3/3] END .var_smoothing=0.02310129700083159;, score=0.703 total time=   0.0s\n",
      "[CV 1/3] END .var_smoothing=0.01873817422860384;, score=0.729 total time=   0.0s\n",
      "[CV 2/3] END .var_smoothing=0.01873817422860384;, score=0.771 total time=   0.0s\n",
      "[CV 3/3] END .var_smoothing=0.01873817422860384;, score=0.703 total time=   0.0s\n",
      "[CV 1/3] END .var_smoothing=0.01519911082952933;, score=0.729 total time=   0.0s\n",
      "[CV 2/3] END .var_smoothing=0.01519911082952933;, score=0.771 total time=   0.0s\n",
      "[CV 3/3] END .var_smoothing=0.01519911082952933;, score=0.703 total time=   0.0s\n",
      "[CV 1/3] END var_smoothing=0.012328467394420659;, score=0.729 total time=   0.0s\n",
      "[CV 2/3] END var_smoothing=0.012328467394420659;, score=0.771 total time=   0.0s\n",
      "[CV 3/3] END var_smoothing=0.012328467394420659;, score=0.703 total time=   0.0s\n",
      "[CV 1/3] END ................var_smoothing=0.01;, score=0.729 total time=   0.0s\n",
      "[CV 2/3] END ................var_smoothing=0.01;, score=0.771 total time=   0.0s\n",
      "[CV 3/3] END ................var_smoothing=0.01;, score=0.703 total time=   0.0s\n",
      "[CV 1/3] END var_smoothing=0.008111308307896872;, score=0.729 total time=   0.0s\n",
      "[CV 2/3] END var_smoothing=0.008111308307896872;, score=0.771 total time=   0.0s\n",
      "[CV 3/3] END var_smoothing=0.008111308307896872;, score=0.703 total time=   0.0s\n",
      "[CV 1/3] END var_smoothing=0.006579332246575682;, score=0.729 total time=   0.0s\n",
      "[CV 2/3] END var_smoothing=0.006579332246575682;, score=0.771 total time=   0.0s\n",
      "[CV 3/3] END var_smoothing=0.006579332246575682;, score=0.703 total time=   0.0s\n",
      "[CV 1/3] END var_smoothing=0.005336699231206307;, score=0.729 total time=   0.0s\n",
      "[CV 2/3] END var_smoothing=0.005336699231206307;, score=0.771 total time=   0.0s\n",
      "[CV 3/3] END var_smoothing=0.005336699231206307;, score=0.703 total time=   0.0s\n",
      "[CV 1/3] END var_smoothing=0.004328761281083057;, score=0.729 total time=   0.0s\n",
      "[CV 2/3] END var_smoothing=0.004328761281083057;, score=0.771 total time=   0.0s\n",
      "[CV 3/3] END var_smoothing=0.004328761281083057;, score=0.703 total time=   0.0s\n",
      "[CV 1/3] END var_smoothing=0.003511191734215131;, score=0.729 total time=   0.0s\n",
      "[CV 2/3] END var_smoothing=0.003511191734215131;, score=0.776 total time=   0.0s\n",
      "[CV 3/3] END var_smoothing=0.003511191734215131;, score=0.703 total time=   0.0s\n",
      "[CV 1/3] END var_smoothing=0.002848035868435802;, score=0.729 total time=   0.0s\n",
      "[CV 2/3] END var_smoothing=0.002848035868435802;, score=0.776 total time=   0.0s\n",
      "[CV 3/3] END var_smoothing=0.002848035868435802;, score=0.703 total time=   0.0s\n",
      "[CV 1/3] END var_smoothing=0.0023101297000831605;, score=0.729 total time=   0.0s\n",
      "[CV 2/3] END var_smoothing=0.0023101297000831605;, score=0.776 total time=   0.0s\n",
      "[CV 3/3] END var_smoothing=0.0023101297000831605;, score=0.703 total time=   0.0s\n",
      "[CV 1/3] END var_smoothing=0.001873817422860383;, score=0.729 total time=   0.0s\n",
      "[CV 2/3] END var_smoothing=0.001873817422860383;, score=0.776 total time=   0.0s\n",
      "[CV 3/3] END var_smoothing=0.001873817422860383;, score=0.703 total time=   0.0s\n",
      "[CV 1/3] END var_smoothing=0.0015199110829529332;, score=0.729 total time=   0.0s\n",
      "[CV 2/3] END var_smoothing=0.0015199110829529332;, score=0.771 total time=   0.0s\n",
      "[CV 3/3] END var_smoothing=0.0015199110829529332;, score=0.703 total time=   0.0s\n",
      "[CV 1/3] END var_smoothing=0.0012328467394420659;, score=0.729 total time=   0.0s\n",
      "[CV 2/3] END var_smoothing=0.0012328467394420659;, score=0.771 total time=   0.0s\n",
      "[CV 3/3] END var_smoothing=0.0012328467394420659;, score=0.703 total time=   0.0s\n",
      "[CV 1/3] END ...............var_smoothing=0.001;, score=0.729 total time=   0.0s\n",
      "[CV 2/3] END ...............var_smoothing=0.001;, score=0.771 total time=   0.0s\n",
      "[CV 3/3] END ...............var_smoothing=0.001;, score=0.703 total time=   0.0s\n",
      "[CV 1/3] END var_smoothing=0.0008111308307896872;, score=0.729 total time=   0.0s\n",
      "[CV 2/3] END var_smoothing=0.0008111308307896872;, score=0.771 total time=   0.0s\n",
      "[CV 3/3] END var_smoothing=0.0008111308307896872;, score=0.703 total time=   0.0s\n",
      "[CV 1/3] END var_smoothing=0.0006579332246575676;, score=0.729 total time=   0.0s\n",
      "[CV 2/3] END var_smoothing=0.0006579332246575676;, score=0.771 total time=   0.0s\n",
      "[CV 3/3] END var_smoothing=0.0006579332246575676;, score=0.703 total time=   0.0s\n",
      "[CV 1/3] END var_smoothing=0.0005336699231206307;, score=0.729 total time=   0.0s\n",
      "[CV 2/3] END var_smoothing=0.0005336699231206307;, score=0.771 total time=   0.0s\n",
      "[CV 3/3] END var_smoothing=0.0005336699231206307;, score=0.703 total time=   0.0s\n",
      "[CV 1/3] END var_smoothing=0.0004328761281083057;, score=0.729 total time=   0.0s\n",
      "[CV 2/3] END var_smoothing=0.0004328761281083057;, score=0.771 total time=   0.0s\n",
      "[CV 3/3] END var_smoothing=0.0004328761281083057;, score=0.703 total time=   0.0s\n",
      "[CV 1/3] END var_smoothing=0.0003511191734215131;, score=0.729 total time=   0.0s\n",
      "[CV 2/3] END var_smoothing=0.0003511191734215131;, score=0.771 total time=   0.0s\n",
      "[CV 3/3] END var_smoothing=0.0003511191734215131;, score=0.703 total time=   0.0s\n",
      "[CV 1/3] END var_smoothing=0.0002848035868435802;, score=0.729 total time=   0.0s\n",
      "[CV 2/3] END var_smoothing=0.0002848035868435802;, score=0.771 total time=   0.0s\n",
      "[CV 3/3] END var_smoothing=0.0002848035868435802;, score=0.703 total time=   0.0s\n",
      "[CV 1/3] END var_smoothing=0.0002310129700083158;, score=0.729 total time=   0.0s\n",
      "[CV 2/3] END var_smoothing=0.0002310129700083158;, score=0.771 total time=   0.0s\n",
      "[CV 3/3] END var_smoothing=0.0002310129700083158;, score=0.703 total time=   0.0s\n",
      "[CV 1/3] END var_smoothing=0.0001873817422860383;, score=0.729 total time=   0.0s\n",
      "[CV 2/3] END var_smoothing=0.0001873817422860383;, score=0.771 total time=   0.0s\n",
      "[CV 3/3] END var_smoothing=0.0001873817422860383;, score=0.703 total time=   0.0s\n",
      "[CV 1/3] END var_smoothing=0.0001519911082952933;, score=0.729 total time=   0.0s\n",
      "[CV 2/3] END var_smoothing=0.0001519911082952933;, score=0.771 total time=   0.0s\n",
      "[CV 3/3] END var_smoothing=0.0001519911082952933;, score=0.703 total time=   0.0s\n",
      "[CV 1/3] END var_smoothing=0.0001232846739442066;, score=0.729 total time=   0.0s\n",
      "[CV 2/3] END var_smoothing=0.0001232846739442066;, score=0.771 total time=   0.0s\n",
      "[CV 3/3] END var_smoothing=0.0001232846739442066;, score=0.703 total time=   0.0s\n",
      "[CV 1/3] END ..............var_smoothing=0.0001;, score=0.729 total time=   0.0s\n",
      "[CV 2/3] END ..............var_smoothing=0.0001;, score=0.771 total time=   0.0s\n",
      "[CV 3/3] END ..............var_smoothing=0.0001;, score=0.703 total time=   0.0s\n",
      "[CV 1/3] END var_smoothing=8.111308307896872e-05;, score=0.729 total time=   0.0s\n",
      "[CV 2/3] END var_smoothing=8.111308307896872e-05;, score=0.771 total time=   0.0s\n",
      "[CV 3/3] END var_smoothing=8.111308307896872e-05;, score=0.703 total time=   0.0s\n",
      "[CV 1/3] END var_smoothing=6.579332246575683e-05;, score=0.729 total time=   0.0s\n",
      "[CV 2/3] END var_smoothing=6.579332246575683e-05;, score=0.771 total time=   0.0s\n",
      "[CV 3/3] END var_smoothing=6.579332246575683e-05;, score=0.703 total time=   0.0s\n",
      "[CV 1/3] END var_smoothing=5.3366992312063123e-05;, score=0.729 total time=   0.0s\n",
      "[CV 2/3] END var_smoothing=5.3366992312063123e-05;, score=0.771 total time=   0.0s\n",
      "[CV 3/3] END var_smoothing=5.3366992312063123e-05;, score=0.703 total time=   0.0s\n",
      "[CV 1/3] END var_smoothing=4.328761281083062e-05;, score=0.729 total time=   0.0s\n",
      "[CV 2/3] END var_smoothing=4.328761281083062e-05;, score=0.771 total time=   0.0s\n",
      "[CV 3/3] END var_smoothing=4.328761281083062e-05;, score=0.703 total time=   0.0s\n",
      "[CV 1/3] END var_smoothing=3.511191734215127e-05;, score=0.729 total time=   0.0s\n",
      "[CV 2/3] END var_smoothing=3.511191734215127e-05;, score=0.771 total time=   0.0s\n",
      "[CV 3/3] END var_smoothing=3.511191734215127e-05;, score=0.703 total time=   0.0s\n",
      "[CV 1/3] END var_smoothing=2.848035868435799e-05;, score=0.729 total time=   0.0s\n",
      "[CV 2/3] END var_smoothing=2.848035868435799e-05;, score=0.771 total time=   0.0s\n",
      "[CV 3/3] END var_smoothing=2.848035868435799e-05;, score=0.703 total time=   0.0s\n",
      "[CV 1/3] END var_smoothing=2.310129700083158e-05;, score=0.729 total time=   0.0s\n",
      "[CV 2/3] END var_smoothing=2.310129700083158e-05;, score=0.771 total time=   0.0s\n",
      "[CV 3/3] END var_smoothing=2.310129700083158e-05;, score=0.703 total time=   0.0s\n",
      "[CV 1/3] END var_smoothing=1.873817422860383e-05;, score=0.729 total time=   0.0s\n",
      "[CV 2/3] END var_smoothing=1.873817422860383e-05;, score=0.771 total time=   0.0s\n",
      "[CV 3/3] END var_smoothing=1.873817422860383e-05;, score=0.703 total time=   0.0s\n",
      "[CV 1/3] END var_smoothing=1.5199110829529332e-05;, score=0.729 total time=   0.0s\n",
      "[CV 2/3] END var_smoothing=1.5199110829529332e-05;, score=0.771 total time=   0.0s\n",
      "[CV 3/3] END var_smoothing=1.5199110829529332e-05;, score=0.703 total time=   0.0s\n",
      "[CV 1/3] END var_smoothing=1.2328467394420658e-05;, score=0.729 total time=   0.0s\n",
      "[CV 2/3] END var_smoothing=1.2328467394420658e-05;, score=0.771 total time=   0.0s\n",
      "[CV 3/3] END var_smoothing=1.2328467394420658e-05;, score=0.703 total time=   0.0s\n",
      "[CV 1/3] END ...............var_smoothing=1e-05;, score=0.729 total time=   0.0s\n",
      "[CV 2/3] END ...............var_smoothing=1e-05;, score=0.771 total time=   0.0s\n",
      "[CV 3/3] END ...............var_smoothing=1e-05;, score=0.703 total time=   0.0s\n",
      "[CV 1/3] END var_smoothing=8.111308307896873e-06;, score=0.729 total time=   0.0s\n",
      "[CV 2/3] END var_smoothing=8.111308307896873e-06;, score=0.771 total time=   0.0s\n",
      "[CV 3/3] END var_smoothing=8.111308307896873e-06;, score=0.703 total time=   0.0s\n",
      "[CV 1/3] END var_smoothing=6.579332246575683e-06;, score=0.729 total time=   0.0s\n",
      "[CV 2/3] END var_smoothing=6.579332246575683e-06;, score=0.771 total time=   0.0s\n",
      "[CV 3/3] END var_smoothing=6.579332246575683e-06;, score=0.703 total time=   0.0s\n",
      "[CV 1/3] END var_smoothing=5.336699231206313e-06;, score=0.729 total time=   0.0s\n",
      "[CV 2/3] END var_smoothing=5.336699231206313e-06;, score=0.771 total time=   0.0s\n",
      "[CV 3/3] END var_smoothing=5.336699231206313e-06;, score=0.703 total time=   0.0s\n",
      "[CV 1/3] END var_smoothing=4.328761281083053e-06;, score=0.729 total time=   0.0s\n",
      "[CV 2/3] END var_smoothing=4.328761281083053e-06;, score=0.771 total time=   0.0s\n",
      "[CV 3/3] END var_smoothing=4.328761281083053e-06;, score=0.703 total time=   0.0s\n",
      "[CV 1/3] END var_smoothing=3.5111917342151275e-06;, score=0.729 total time=   0.0s\n",
      "[CV 2/3] END var_smoothing=3.5111917342151275e-06;, score=0.771 total time=   0.0s\n",
      "[CV 3/3] END var_smoothing=3.5111917342151275e-06;, score=0.703 total time=   0.0s\n",
      "[CV 1/3] END var_smoothing=2.848035868435799e-06;, score=0.729 total time=   0.0s\n",
      "[CV 2/3] END var_smoothing=2.848035868435799e-06;, score=0.771 total time=   0.0s\n",
      "[CV 3/3] END var_smoothing=2.848035868435799e-06;, score=0.703 total time=   0.0s\n",
      "[CV 1/3] END var_smoothing=2.310129700083158e-06;, score=0.729 total time=   0.0s\n",
      "[CV 2/3] END var_smoothing=2.310129700083158e-06;, score=0.771 total time=   0.0s\n",
      "[CV 3/3] END var_smoothing=2.310129700083158e-06;, score=0.703 total time=   0.0s\n",
      "[CV 1/3] END var_smoothing=1.873817422860383e-06;, score=0.729 total time=   0.0s\n",
      "[CV 2/3] END var_smoothing=1.873817422860383e-06;, score=0.771 total time=   0.0s\n",
      "[CV 3/3] END var_smoothing=1.873817422860383e-06;, score=0.703 total time=   0.0s\n",
      "[CV 1/3] END var_smoothing=1.519911082952933e-06;, score=0.729 total time=   0.0s\n",
      "[CV 2/3] END var_smoothing=1.519911082952933e-06;, score=0.771 total time=   0.0s\n",
      "[CV 3/3] END var_smoothing=1.519911082952933e-06;, score=0.703 total time=   0.0s\n",
      "[CV 1/3] END var_smoothing=1.232846739442066e-06;, score=0.729 total time=   0.0s\n",
      "[CV 2/3] END var_smoothing=1.232846739442066e-06;, score=0.771 total time=   0.0s\n",
      "[CV 3/3] END var_smoothing=1.232846739442066e-06;, score=0.703 total time=   0.0s\n",
      "[CV 1/3] END ...............var_smoothing=1e-06;, score=0.729 total time=   0.0s\n",
      "[CV 2/3] END ...............var_smoothing=1e-06;, score=0.771 total time=   0.0s\n",
      "[CV 3/3] END ...............var_smoothing=1e-06;, score=0.703 total time=   0.0s\n",
      "[CV 1/3] END var_smoothing=8.111308307896872e-07;, score=0.729 total time=   0.0s\n",
      "[CV 2/3] END var_smoothing=8.111308307896872e-07;, score=0.771 total time=   0.0s\n",
      "[CV 3/3] END var_smoothing=8.111308307896872e-07;, score=0.703 total time=   0.0s\n",
      "[CV 1/3] END var_smoothing=6.579332246575682e-07;, score=0.729 total time=   0.0s\n",
      "[CV 2/3] END var_smoothing=6.579332246575682e-07;, score=0.771 total time=   0.0s\n",
      "[CV 3/3] END var_smoothing=6.579332246575682e-07;, score=0.703 total time=   0.0s\n",
      "[CV 1/3] END var_smoothing=5.336699231206313e-07;, score=0.729 total time=   0.0s\n",
      "[CV 2/3] END var_smoothing=5.336699231206313e-07;, score=0.771 total time=   0.0s\n",
      "[CV 3/3] END var_smoothing=5.336699231206313e-07;, score=0.703 total time=   0.0s\n",
      "[CV 1/3] END var_smoothing=4.3287612810830526e-07;, score=0.729 total time=   0.0s\n",
      "[CV 2/3] END var_smoothing=4.3287612810830526e-07;, score=0.771 total time=   0.0s\n",
      "[CV 3/3] END var_smoothing=4.3287612810830526e-07;, score=0.703 total time=   0.0s\n",
      "[CV 1/3] END var_smoothing=3.5111917342151277e-07;, score=0.729 total time=   0.0s\n",
      "[CV 2/3] END var_smoothing=3.5111917342151277e-07;, score=0.771 total time=   0.0s\n",
      "[CV 3/3] END var_smoothing=3.5111917342151277e-07;, score=0.703 total time=   0.0s\n",
      "[CV 1/3] END var_smoothing=2.848035868435799e-07;, score=0.729 total time=   0.0s\n",
      "[CV 2/3] END var_smoothing=2.848035868435799e-07;, score=0.771 total time=   0.0s\n",
      "[CV 3/3] END var_smoothing=2.848035868435799e-07;, score=0.703 total time=   0.0s\n",
      "[CV 1/3] END var_smoothing=2.310129700083158e-07;, score=0.729 total time=   0.0s\n",
      "[CV 2/3] END var_smoothing=2.310129700083158e-07;, score=0.771 total time=   0.0s\n",
      "[CV 3/3] END var_smoothing=2.310129700083158e-07;, score=0.703 total time=   0.0s\n",
      "[CV 1/3] END var_smoothing=1.873817422860383e-07;, score=0.729 total time=   0.0s\n",
      "[CV 2/3] END var_smoothing=1.873817422860383e-07;, score=0.771 total time=   0.0s\n",
      "[CV 3/3] END var_smoothing=1.873817422860383e-07;, score=0.703 total time=   0.0s\n",
      "[CV 1/3] END var_smoothing=1.519911082952933e-07;, score=0.729 total time=   0.0s\n",
      "[CV 2/3] END var_smoothing=1.519911082952933e-07;, score=0.771 total time=   0.0s\n",
      "[CV 3/3] END var_smoothing=1.519911082952933e-07;, score=0.703 total time=   0.0s\n",
      "[CV 1/3] END var_smoothing=1.232846739442066e-07;, score=0.729 total time=   0.0s\n",
      "[CV 2/3] END var_smoothing=1.232846739442066e-07;, score=0.771 total time=   0.0s\n",
      "[CV 3/3] END var_smoothing=1.232846739442066e-07;, score=0.703 total time=   0.0s\n",
      "[CV 1/3] END ...............var_smoothing=1e-07;, score=0.729 total time=   0.0s\n",
      "[CV 2/3] END ...............var_smoothing=1e-07;, score=0.771 total time=   0.0s\n",
      "[CV 3/3] END ...............var_smoothing=1e-07;, score=0.703 total time=   0.0s\n",
      "[CV 1/3] END var_smoothing=8.111308307896873e-08;, score=0.729 total time=   0.0s\n",
      "[CV 2/3] END var_smoothing=8.111308307896873e-08;, score=0.771 total time=   0.0s\n",
      "[CV 3/3] END var_smoothing=8.111308307896873e-08;, score=0.703 total time=   0.0s\n",
      "[CV 1/3] END var_smoothing=6.579332246575682e-08;, score=0.729 total time=   0.0s\n",
      "[CV 2/3] END var_smoothing=6.579332246575682e-08;, score=0.771 total time=   0.0s\n",
      "[CV 3/3] END var_smoothing=6.579332246575682e-08;, score=0.703 total time=   0.0s\n",
      "[CV 1/3] END var_smoothing=5.336699231206302e-08;, score=0.729 total time=   0.0s\n",
      "[CV 2/3] END var_smoothing=5.336699231206302e-08;, score=0.771 total time=   0.0s\n",
      "[CV 3/3] END var_smoothing=5.336699231206302e-08;, score=0.703 total time=   0.0s\n",
      "[CV 1/3] END var_smoothing=4.3287612810830526e-08;, score=0.729 total time=   0.0s\n",
      "[CV 2/3] END var_smoothing=4.3287612810830526e-08;, score=0.771 total time=   0.0s\n",
      "[CV 3/3] END var_smoothing=4.3287612810830526e-08;, score=0.703 total time=   0.0s\n",
      "[CV 1/3] END var_smoothing=3.5111917342151277e-08;, score=0.729 total time=   0.0s\n",
      "[CV 2/3] END var_smoothing=3.5111917342151277e-08;, score=0.771 total time=   0.0s\n",
      "[CV 3/3] END var_smoothing=3.5111917342151277e-08;, score=0.703 total time=   0.0s\n",
      "[CV 1/3] END var_smoothing=2.848035868435799e-08;, score=0.729 total time=   0.0s\n",
      "[CV 2/3] END var_smoothing=2.848035868435799e-08;, score=0.771 total time=   0.0s\n",
      "[CV 3/3] END var_smoothing=2.848035868435799e-08;, score=0.703 total time=   0.0s\n",
      "[CV 1/3] END var_smoothing=2.310129700083158e-08;, score=0.729 total time=   0.0s\n",
      "[CV 2/3] END var_smoothing=2.310129700083158e-08;, score=0.771 total time=   0.0s\n",
      "[CV 3/3] END var_smoothing=2.310129700083158e-08;, score=0.703 total time=   0.0s\n",
      "[CV 1/3] END var_smoothing=1.873817422860383e-08;, score=0.729 total time=   0.0s\n",
      "[CV 2/3] END var_smoothing=1.873817422860383e-08;, score=0.771 total time=   0.0s\n",
      "[CV 3/3] END var_smoothing=1.873817422860383e-08;, score=0.703 total time=   0.0s\n",
      "[CV 1/3] END var_smoothing=1.519911082952933e-08;, score=0.729 total time=   0.0s\n",
      "[CV 2/3] END var_smoothing=1.519911082952933e-08;, score=0.771 total time=   0.0s\n",
      "[CV 3/3] END var_smoothing=1.519911082952933e-08;, score=0.703 total time=   0.0s\n",
      "[CV 1/3] END var_smoothing=1.232846739442066e-08;, score=0.729 total time=   0.0s\n",
      "[CV 2/3] END var_smoothing=1.232846739442066e-08;, score=0.771 total time=   0.0s\n",
      "[CV 3/3] END var_smoothing=1.232846739442066e-08;, score=0.703 total time=   0.0s\n",
      "[CV 1/3] END ...............var_smoothing=1e-08;, score=0.729 total time=   0.0s\n",
      "[CV 2/3] END ...............var_smoothing=1e-08;, score=0.771 total time=   0.0s\n",
      "[CV 3/3] END ...............var_smoothing=1e-08;, score=0.703 total time=   0.0s\n",
      "[CV 1/3] END var_smoothing=8.111308307896856e-09;, score=0.729 total time=   0.0s\n",
      "[CV 2/3] END var_smoothing=8.111308307896856e-09;, score=0.771 total time=   0.0s\n",
      "[CV 3/3] END var_smoothing=8.111308307896856e-09;, score=0.703 total time=   0.0s\n",
      "[CV 1/3] END var_smoothing=6.579332246575682e-09;, score=0.729 total time=   0.0s\n",
      "[CV 2/3] END var_smoothing=6.579332246575682e-09;, score=0.771 total time=   0.0s\n",
      "[CV 3/3] END var_smoothing=6.579332246575682e-09;, score=0.703 total time=   0.0s\n",
      "[CV 1/3] END var_smoothing=5.336699231206302e-09;, score=0.729 total time=   0.0s\n",
      "[CV 2/3] END var_smoothing=5.336699231206302e-09;, score=0.771 total time=   0.0s\n",
      "[CV 3/3] END var_smoothing=5.336699231206302e-09;, score=0.703 total time=   0.0s\n",
      "[CV 1/3] END var_smoothing=4.328761281083061e-09;, score=0.729 total time=   0.0s\n",
      "[CV 2/3] END var_smoothing=4.328761281083061e-09;, score=0.771 total time=   0.0s\n",
      "[CV 3/3] END var_smoothing=4.328761281083061e-09;, score=0.703 total time=   0.0s\n",
      "[CV 1/3] END var_smoothing=3.5111917342151273e-09;, score=0.729 total time=   0.0s\n",
      "[CV 2/3] END var_smoothing=3.5111917342151273e-09;, score=0.771 total time=   0.0s\n",
      "[CV 3/3] END var_smoothing=3.5111917342151273e-09;, score=0.703 total time=   0.0s\n",
      "[CV 1/3] END var_smoothing=2.848035868435805e-09;, score=0.729 total time=   0.0s\n",
      "[CV 2/3] END var_smoothing=2.848035868435805e-09;, score=0.771 total time=   0.0s\n",
      "[CV 3/3] END var_smoothing=2.848035868435805e-09;, score=0.703 total time=   0.0s\n",
      "[CV 1/3] END var_smoothing=2.310129700083158e-09;, score=0.729 total time=   0.0s\n",
      "[CV 2/3] END var_smoothing=2.310129700083158e-09;, score=0.771 total time=   0.0s\n",
      "[CV 3/3] END var_smoothing=2.310129700083158e-09;, score=0.703 total time=   0.0s\n",
      "[CV 1/3] END var_smoothing=1.873817422860387e-09;, score=0.729 total time=   0.0s\n",
      "[CV 2/3] END var_smoothing=1.873817422860387e-09;, score=0.771 total time=   0.0s\n",
      "[CV 3/3] END var_smoothing=1.873817422860387e-09;, score=0.703 total time=   0.0s\n",
      "[CV 1/3] END var_smoothing=1.519911082952933e-09;, score=0.729 total time=   0.0s\n",
      "[CV 2/3] END var_smoothing=1.519911082952933e-09;, score=0.771 total time=   0.0s\n",
      "[CV 3/3] END var_smoothing=1.519911082952933e-09;, score=0.703 total time=   0.0s\n",
      "[CV 1/3] END var_smoothing=1.2328467394420635e-09;, score=0.729 total time=   0.0s\n",
      "[CV 2/3] END var_smoothing=1.2328467394420635e-09;, score=0.771 total time=   0.0s\n",
      "[CV 3/3] END var_smoothing=1.2328467394420635e-09;, score=0.703 total time=   0.0s\n",
      "[CV 1/3] END ...............var_smoothing=1e-09;, score=0.729 total time=   0.0s\n",
      "[CV 2/3] END ...............var_smoothing=1e-09;, score=0.771 total time=   0.0s\n",
      "[CV 3/3] END ...............var_smoothing=1e-09;, score=0.703 total time=   0.0s\n"
     ]
    },
    {
     "data": {
      "text/html": [
       "<style>#sk-container-id-1 {color: black;}#sk-container-id-1 pre{padding: 0;}#sk-container-id-1 div.sk-toggleable {background-color: white;}#sk-container-id-1 label.sk-toggleable__label {cursor: pointer;display: block;width: 100%;margin-bottom: 0;padding: 0.3em;box-sizing: border-box;text-align: center;}#sk-container-id-1 label.sk-toggleable__label-arrow:before {content: \"▸\";float: left;margin-right: 0.25em;color: #696969;}#sk-container-id-1 label.sk-toggleable__label-arrow:hover:before {color: black;}#sk-container-id-1 div.sk-estimator:hover label.sk-toggleable__label-arrow:before {color: black;}#sk-container-id-1 div.sk-toggleable__content {max-height: 0;max-width: 0;overflow: hidden;text-align: left;background-color: #f0f8ff;}#sk-container-id-1 div.sk-toggleable__content pre {margin: 0.2em;color: black;border-radius: 0.25em;background-color: #f0f8ff;}#sk-container-id-1 input.sk-toggleable__control:checked~div.sk-toggleable__content {max-height: 200px;max-width: 100%;overflow: auto;}#sk-container-id-1 input.sk-toggleable__control:checked~label.sk-toggleable__label-arrow:before {content: \"▾\";}#sk-container-id-1 div.sk-estimator input.sk-toggleable__control:checked~label.sk-toggleable__label {background-color: #d4ebff;}#sk-container-id-1 div.sk-label input.sk-toggleable__control:checked~label.sk-toggleable__label {background-color: #d4ebff;}#sk-container-id-1 input.sk-hidden--visually {border: 0;clip: rect(1px 1px 1px 1px);clip: rect(1px, 1px, 1px, 1px);height: 1px;margin: -1px;overflow: hidden;padding: 0;position: absolute;width: 1px;}#sk-container-id-1 div.sk-estimator {font-family: monospace;background-color: #f0f8ff;border: 1px dotted black;border-radius: 0.25em;box-sizing: border-box;margin-bottom: 0.5em;}#sk-container-id-1 div.sk-estimator:hover {background-color: #d4ebff;}#sk-container-id-1 div.sk-parallel-item::after {content: \"\";width: 100%;border-bottom: 1px solid gray;flex-grow: 1;}#sk-container-id-1 div.sk-label:hover label.sk-toggleable__label {background-color: #d4ebff;}#sk-container-id-1 div.sk-serial::before {content: \"\";position: absolute;border-left: 1px solid gray;box-sizing: border-box;top: 0;bottom: 0;left: 50%;z-index: 0;}#sk-container-id-1 div.sk-serial {display: flex;flex-direction: column;align-items: center;background-color: white;padding-right: 0.2em;padding-left: 0.2em;position: relative;}#sk-container-id-1 div.sk-item {position: relative;z-index: 1;}#sk-container-id-1 div.sk-parallel {display: flex;align-items: stretch;justify-content: center;background-color: white;position: relative;}#sk-container-id-1 div.sk-item::before, #sk-container-id-1 div.sk-parallel-item::before {content: \"\";position: absolute;border-left: 1px solid gray;box-sizing: border-box;top: 0;bottom: 0;left: 50%;z-index: -1;}#sk-container-id-1 div.sk-parallel-item {display: flex;flex-direction: column;z-index: 1;position: relative;background-color: white;}#sk-container-id-1 div.sk-parallel-item:first-child::after {align-self: flex-end;width: 50%;}#sk-container-id-1 div.sk-parallel-item:last-child::after {align-self: flex-start;width: 50%;}#sk-container-id-1 div.sk-parallel-item:only-child::after {width: 0;}#sk-container-id-1 div.sk-dashed-wrapped {border: 1px dashed gray;margin: 0 0.4em 0.5em 0.4em;box-sizing: border-box;padding-bottom: 0.4em;background-color: white;}#sk-container-id-1 div.sk-label label {font-family: monospace;font-weight: bold;display: inline-block;line-height: 1.2em;}#sk-container-id-1 div.sk-label-container {text-align: center;}#sk-container-id-1 div.sk-container {/* jupyter's `normalize.less` sets `[hidden] { display: none; }` but bootstrap.min.css set `[hidden] { display: none !important; }` so we also need the `!important` here to be able to override the default hidden behavior on the sphinx rendered scikit-learn.org. See: https://github.com/scikit-learn/scikit-learn/issues/21755 */display: inline-block !important;position: relative;}#sk-container-id-1 div.sk-text-repr-fallback {display: none;}</style><div id=\"sk-container-id-1\" class=\"sk-top-container\"><div class=\"sk-text-repr-fallback\"><pre>GridSearchCV(cv=3, estimator=GaussianNB(),\n",
       "             param_grid={&#x27;var_smoothing&#x27;: array([1.00000000e+00, 8.11130831e-01, 6.57933225e-01, 5.33669923e-01,\n",
       "       4.32876128e-01, 3.51119173e-01, 2.84803587e-01, 2.31012970e-01,\n",
       "       1.87381742e-01, 1.51991108e-01, 1.23284674e-01, 1.00000000e-01,\n",
       "       8.11130831e-02, 6.57933225e-02, 5.33669923e-02, 4.32876128e-02,\n",
       "       3.51119173e-02, 2.84803587e-02, 2.31...\n",
       "       1.23284674e-07, 1.00000000e-07, 8.11130831e-08, 6.57933225e-08,\n",
       "       5.33669923e-08, 4.32876128e-08, 3.51119173e-08, 2.84803587e-08,\n",
       "       2.31012970e-08, 1.87381742e-08, 1.51991108e-08, 1.23284674e-08,\n",
       "       1.00000000e-08, 8.11130831e-09, 6.57933225e-09, 5.33669923e-09,\n",
       "       4.32876128e-09, 3.51119173e-09, 2.84803587e-09, 2.31012970e-09,\n",
       "       1.87381742e-09, 1.51991108e-09, 1.23284674e-09, 1.00000000e-09])},\n",
       "             scoring=&#x27;accuracy&#x27;, verbose=3)</pre><b>In a Jupyter environment, please rerun this cell to show the HTML representation or trust the notebook. <br />On GitHub, the HTML representation is unable to render, please try loading this page with nbviewer.org.</b></div><div class=\"sk-container\" hidden><div class=\"sk-item sk-dashed-wrapped\"><div class=\"sk-label-container\"><div class=\"sk-label sk-toggleable\"><input class=\"sk-toggleable__control sk-hidden--visually\" id=\"sk-estimator-id-1\" type=\"checkbox\" ><label for=\"sk-estimator-id-1\" class=\"sk-toggleable__label sk-toggleable__label-arrow\">GridSearchCV</label><div class=\"sk-toggleable__content\"><pre>GridSearchCV(cv=3, estimator=GaussianNB(),\n",
       "             param_grid={&#x27;var_smoothing&#x27;: array([1.00000000e+00, 8.11130831e-01, 6.57933225e-01, 5.33669923e-01,\n",
       "       4.32876128e-01, 3.51119173e-01, 2.84803587e-01, 2.31012970e-01,\n",
       "       1.87381742e-01, 1.51991108e-01, 1.23284674e-01, 1.00000000e-01,\n",
       "       8.11130831e-02, 6.57933225e-02, 5.33669923e-02, 4.32876128e-02,\n",
       "       3.51119173e-02, 2.84803587e-02, 2.31...\n",
       "       1.23284674e-07, 1.00000000e-07, 8.11130831e-08, 6.57933225e-08,\n",
       "       5.33669923e-08, 4.32876128e-08, 3.51119173e-08, 2.84803587e-08,\n",
       "       2.31012970e-08, 1.87381742e-08, 1.51991108e-08, 1.23284674e-08,\n",
       "       1.00000000e-08, 8.11130831e-09, 6.57933225e-09, 5.33669923e-09,\n",
       "       4.32876128e-09, 3.51119173e-09, 2.84803587e-09, 2.31012970e-09,\n",
       "       1.87381742e-09, 1.51991108e-09, 1.23284674e-09, 1.00000000e-09])},\n",
       "             scoring=&#x27;accuracy&#x27;, verbose=3)</pre></div></div></div><div class=\"sk-parallel\"><div class=\"sk-parallel-item\"><div class=\"sk-item\"><div class=\"sk-label-container\"><div class=\"sk-label sk-toggleable\"><input class=\"sk-toggleable__control sk-hidden--visually\" id=\"sk-estimator-id-2\" type=\"checkbox\" ><label for=\"sk-estimator-id-2\" class=\"sk-toggleable__label sk-toggleable__label-arrow\">estimator: GaussianNB</label><div class=\"sk-toggleable__content\"><pre>GaussianNB()</pre></div></div></div><div class=\"sk-serial\"><div class=\"sk-item\"><div class=\"sk-estimator sk-toggleable\"><input class=\"sk-toggleable__control sk-hidden--visually\" id=\"sk-estimator-id-3\" type=\"checkbox\" ><label for=\"sk-estimator-id-3\" class=\"sk-toggleable__label sk-toggleable__label-arrow\">GaussianNB</label><div class=\"sk-toggleable__content\"><pre>GaussianNB()</pre></div></div></div></div></div></div></div></div></div></div>"
      ],
      "text/plain": [
       "GridSearchCV(cv=3, estimator=GaussianNB(),\n",
       "             param_grid={'var_smoothing': array([1.00000000e+00, 8.11130831e-01, 6.57933225e-01, 5.33669923e-01,\n",
       "       4.32876128e-01, 3.51119173e-01, 2.84803587e-01, 2.31012970e-01,\n",
       "       1.87381742e-01, 1.51991108e-01, 1.23284674e-01, 1.00000000e-01,\n",
       "       8.11130831e-02, 6.57933225e-02, 5.33669923e-02, 4.32876128e-02,\n",
       "       3.51119173e-02, 2.84803587e-02, 2.31...\n",
       "       1.23284674e-07, 1.00000000e-07, 8.11130831e-08, 6.57933225e-08,\n",
       "       5.33669923e-08, 4.32876128e-08, 3.51119173e-08, 2.84803587e-08,\n",
       "       2.31012970e-08, 1.87381742e-08, 1.51991108e-08, 1.23284674e-08,\n",
       "       1.00000000e-08, 8.11130831e-09, 6.57933225e-09, 5.33669923e-09,\n",
       "       4.32876128e-09, 3.51119173e-09, 2.84803587e-09, 2.31012970e-09,\n",
       "       1.87381742e-09, 1.51991108e-09, 1.23284674e-09, 1.00000000e-09])},\n",
       "             scoring='accuracy', verbose=3)"
      ]
     },
     "execution_count": 21,
     "metadata": {},
     "output_type": "execute_result"
    }
   ],
   "source": [
    "clf.fit(X_train_scaled,y_train)"
   ]
  },
  {
   "cell_type": "code",
   "execution_count": 22,
   "metadata": {},
   "outputs": [
    {
     "data": {
      "text/plain": [
       "{'var_smoothing': 0.657933224657568}"
      ]
     },
     "execution_count": 22,
     "metadata": {},
     "output_type": "execute_result"
    }
   ],
   "source": [
    "clf.best_params_"
   ]
  },
  {
   "cell_type": "code",
   "execution_count": 24,
   "metadata": {},
   "outputs": [
    {
     "data": {
      "text/html": [
       "<style>#sk-container-id-2 {color: black;}#sk-container-id-2 pre{padding: 0;}#sk-container-id-2 div.sk-toggleable {background-color: white;}#sk-container-id-2 label.sk-toggleable__label {cursor: pointer;display: block;width: 100%;margin-bottom: 0;padding: 0.3em;box-sizing: border-box;text-align: center;}#sk-container-id-2 label.sk-toggleable__label-arrow:before {content: \"▸\";float: left;margin-right: 0.25em;color: #696969;}#sk-container-id-2 label.sk-toggleable__label-arrow:hover:before {color: black;}#sk-container-id-2 div.sk-estimator:hover label.sk-toggleable__label-arrow:before {color: black;}#sk-container-id-2 div.sk-toggleable__content {max-height: 0;max-width: 0;overflow: hidden;text-align: left;background-color: #f0f8ff;}#sk-container-id-2 div.sk-toggleable__content pre {margin: 0.2em;color: black;border-radius: 0.25em;background-color: #f0f8ff;}#sk-container-id-2 input.sk-toggleable__control:checked~div.sk-toggleable__content {max-height: 200px;max-width: 100%;overflow: auto;}#sk-container-id-2 input.sk-toggleable__control:checked~label.sk-toggleable__label-arrow:before {content: \"▾\";}#sk-container-id-2 div.sk-estimator input.sk-toggleable__control:checked~label.sk-toggleable__label {background-color: #d4ebff;}#sk-container-id-2 div.sk-label input.sk-toggleable__control:checked~label.sk-toggleable__label {background-color: #d4ebff;}#sk-container-id-2 input.sk-hidden--visually {border: 0;clip: rect(1px 1px 1px 1px);clip: rect(1px, 1px, 1px, 1px);height: 1px;margin: -1px;overflow: hidden;padding: 0;position: absolute;width: 1px;}#sk-container-id-2 div.sk-estimator {font-family: monospace;background-color: #f0f8ff;border: 1px dotted black;border-radius: 0.25em;box-sizing: border-box;margin-bottom: 0.5em;}#sk-container-id-2 div.sk-estimator:hover {background-color: #d4ebff;}#sk-container-id-2 div.sk-parallel-item::after {content: \"\";width: 100%;border-bottom: 1px solid gray;flex-grow: 1;}#sk-container-id-2 div.sk-label:hover label.sk-toggleable__label {background-color: #d4ebff;}#sk-container-id-2 div.sk-serial::before {content: \"\";position: absolute;border-left: 1px solid gray;box-sizing: border-box;top: 0;bottom: 0;left: 50%;z-index: 0;}#sk-container-id-2 div.sk-serial {display: flex;flex-direction: column;align-items: center;background-color: white;padding-right: 0.2em;padding-left: 0.2em;position: relative;}#sk-container-id-2 div.sk-item {position: relative;z-index: 1;}#sk-container-id-2 div.sk-parallel {display: flex;align-items: stretch;justify-content: center;background-color: white;position: relative;}#sk-container-id-2 div.sk-item::before, #sk-container-id-2 div.sk-parallel-item::before {content: \"\";position: absolute;border-left: 1px solid gray;box-sizing: border-box;top: 0;bottom: 0;left: 50%;z-index: -1;}#sk-container-id-2 div.sk-parallel-item {display: flex;flex-direction: column;z-index: 1;position: relative;background-color: white;}#sk-container-id-2 div.sk-parallel-item:first-child::after {align-self: flex-end;width: 50%;}#sk-container-id-2 div.sk-parallel-item:last-child::after {align-self: flex-start;width: 50%;}#sk-container-id-2 div.sk-parallel-item:only-child::after {width: 0;}#sk-container-id-2 div.sk-dashed-wrapped {border: 1px dashed gray;margin: 0 0.4em 0.5em 0.4em;box-sizing: border-box;padding-bottom: 0.4em;background-color: white;}#sk-container-id-2 div.sk-label label {font-family: monospace;font-weight: bold;display: inline-block;line-height: 1.2em;}#sk-container-id-2 div.sk-label-container {text-align: center;}#sk-container-id-2 div.sk-container {/* jupyter's `normalize.less` sets `[hidden] { display: none; }` but bootstrap.min.css set `[hidden] { display: none !important; }` so we also need the `!important` here to be able to override the default hidden behavior on the sphinx rendered scikit-learn.org. See: https://github.com/scikit-learn/scikit-learn/issues/21755 */display: inline-block !important;position: relative;}#sk-container-id-2 div.sk-text-repr-fallback {display: none;}</style><div id=\"sk-container-id-2\" class=\"sk-top-container\"><div class=\"sk-text-repr-fallback\"><pre>GaussianNB(var_smoothing=0.657933224657568)</pre><b>In a Jupyter environment, please rerun this cell to show the HTML representation or trust the notebook. <br />On GitHub, the HTML representation is unable to render, please try loading this page with nbviewer.org.</b></div><div class=\"sk-container\" hidden><div class=\"sk-item\"><div class=\"sk-estimator sk-toggleable\"><input class=\"sk-toggleable__control sk-hidden--visually\" id=\"sk-estimator-id-4\" type=\"checkbox\" checked><label for=\"sk-estimator-id-4\" class=\"sk-toggleable__label sk-toggleable__label-arrow\">GaussianNB</label><div class=\"sk-toggleable__content\"><pre>GaussianNB(var_smoothing=0.657933224657568)</pre></div></div></div></div></div>"
      ],
      "text/plain": [
       "GaussianNB(var_smoothing=0.657933224657568)"
      ]
     },
     "execution_count": 24,
     "metadata": {},
     "output_type": "execute_result"
    }
   ],
   "source": [
    "gnb_1=GaussianNB(var_smoothing=0.657933224657568)\n",
    "gnb_1.fit(X_train_scaled,y_train)"
   ]
  },
  {
   "cell_type": "code",
   "execution_count": 25,
   "metadata": {},
   "outputs": [],
   "source": [
    "y_pred=gnb_1.predict(X_test_scaled)"
   ]
  },
  {
   "cell_type": "code",
   "execution_count": 26,
   "metadata": {},
   "outputs": [
    {
     "data": {
      "text/plain": [
       "array([[121,   9],\n",
       "       [ 36,  26]])"
      ]
     },
     "execution_count": 26,
     "metadata": {},
     "output_type": "execute_result"
    }
   ],
   "source": [
    "mat=confusion_matrix(y_test,y_pred)\n",
    "mat"
   ]
  },
  {
   "cell_type": "code",
   "execution_count": 27,
   "metadata": {},
   "outputs": [],
   "source": [
    "acc=accuracy_score(y_test,y_pred)"
   ]
  },
  {
   "cell_type": "code",
   "execution_count": 28,
   "metadata": {},
   "outputs": [
    {
     "data": {
      "text/plain": [
       "0.765625"
      ]
     },
     "execution_count": 28,
     "metadata": {},
     "output_type": "execute_result"
    }
   ],
   "source": [
    "acc"
   ]
  },
  {
   "cell_type": "code",
   "execution_count": null,
   "metadata": {},
   "outputs": [],
   "source": [
    "file=open('/config/workspace/MODEL/Gauss.pkl','wb')\n",
    "pickle.dump(gnb_1,file)\n",
    "file.close()"
   ]
  },
  {
   "cell_type": "code",
   "execution_count": null,
   "metadata": {},
   "outputs": [],
   "source": [
    "pip install -U scikit-learn"
   ]
  },
  {
   "cell_type": "code",
   "execution_count": null,
   "metadata": {},
   "outputs": [],
   "source": [
    "pip install -U scikit-learn scipy matplotlib"
   ]
  }
 ],
 "metadata": {
  "kernelspec": {
   "display_name": "Python 3.8.10 64-bit",
   "language": "python",
   "name": "python3"
  },
  "language_info": {
   "codemirror_mode": {
    "name": "ipython",
    "version": 3
   },
   "file_extension": ".py",
   "mimetype": "text/x-python",
   "name": "python",
   "nbconvert_exporter": "python",
   "pygments_lexer": "ipython3",
   "version": "3.8.10"
  },
  "orig_nbformat": 4,
  "vscode": {
   "interpreter": {
    "hash": "e7370f93d1d0cde622a1f8e1c04877d8463912d04d973331ad4851f04de6915a"
   }
  }
 },
 "nbformat": 4,
 "nbformat_minor": 2
}
